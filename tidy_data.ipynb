{
 "cells": [
  {
   "cell_type": "markdown",
   "metadata": {},
   "source": [
    "# Tidy Data"
   ]
  },
  {
   "cell_type": "markdown",
   "metadata": {},
   "source": [
    "### Exercise 1: Attendance Data\n",
    "\n",
    "- Load the attendance.csv file and calculate an attendnace percentage for each student. One half day is worth 50% of a full day, and 10 tardies is equal to one absence.\n",
    "\n",
    "- You should end up with something like this:\n",
    "\n",
    "\n",
    "| name | |\n",
    "| --- | --- |\n",
    "| Billy | 0.5250 |\n",
    "| Jane | 0.6875 |\n",
    "| John | 0.9125 |\n",
    "| Sally | 0.7625 |\n",
    "Name: grade, dtype: float64"
   ]
  },
  {
   "cell_type": "markdown",
   "metadata": {},
   "source": [
    "### Exercise 2: Coffee Levels\n",
    "\n",
    "- A) Read the coffee_levels.csv file.\n",
    "- B) Transform the data so that each carafe is in it's own column.\n",
    "- C) Is this the best shape for the data?"
   ]
  },
  {
   "cell_type": "markdown",
   "metadata": {},
   "source": [
    "### Exercise 3: Cake Recipes\n",
    "\n",
    "- A) Read the cake_recipes.csv data. This data set contains cake tastiness scores for combinations of different recipes, oven rack positions, and oven temperatures.\n",
    "- B) Tidy the data as necessary.\n",
    "- C) Which recipe, on average, is the best? recipe b\n",
    "- D) Which oven temperature, on average, produces the best results? 275\n",
    "- E) Which combination of recipe, rack position, and temperature gives the best result? recipe b, bottom rack, 300 degrees"
   ]
  },
  {
   "cell_type": "code",
   "execution_count": null,
   "metadata": {},
   "outputs": [],
   "source": []
  }
 ],
 "metadata": {
  "kernelspec": {
   "display_name": "Python 3",
   "language": "python",
   "name": "python3"
  },
  "language_info": {
   "codemirror_mode": {
    "name": "ipython",
    "version": 3
   },
   "file_extension": ".py",
   "mimetype": "text/x-python",
   "name": "python",
   "nbconvert_exporter": "python",
   "pygments_lexer": "ipython3",
   "version": "3.7.6"
  }
 },
 "nbformat": 4,
 "nbformat_minor": 4
}
